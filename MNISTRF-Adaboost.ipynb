{
 "cells": [
  {
   "cell_type": "code",
   "execution_count": 1,
   "id": "e7e6340d",
   "metadata": {},
   "outputs": [],
   "source": [
    "# # https://towardsdatascience.com/ensemble-methods-in-machine-learning-what-are-they-and-why-use-them-68ec3f9fef5f\n",
    "\n",
    "# Minkowski distance\n",
    "# https://en.wikipedia.org/wiki/Minkowski_distance\n",
    "\n",
    "# Distance de Manhattan\n",
    "# https://fr.wikipedia.org/wiki/Distance_de_Manhattan\n",
    "\n",
    "# Euclidean distance\n",
    "# https://en.wikipedia.org/wiki/Euclidean_distance\n",
    "\n",
    "# Adaboost\n",
    "# https://www.datacamp.com/tutorial/adaboost-classifier-python\n",
    "# https://scikit-learn.org/stable/modules/generated/sklearn.ensemble.AdaBoostClassifier.html"
   ]
  },
  {
   "cell_type": "code",
   "execution_count": 2,
   "id": "6d77d231",
   "metadata": {},
   "outputs": [],
   "source": [
    "import pandas as pd\n",
    "import numpy as np\n",
    "import matplotlib.pyplot as plt\n",
    "from sklearn import datasets\n",
    "# https://scikit-learn.org/stable/modules/generated/sklearn.neighbors.KNeighborsClassifier.html\n",
    "from sklearn.neighbors import KNeighborsClassifier\n",
    "from sklearn import metrics"
   ]
  },
  {
   "cell_type": "code",
   "execution_count": 3,
   "id": "3103b821",
   "metadata": {},
   "outputs": [
    {
     "data": {
      "text/plain": [
       "<matplotlib.image.AxesImage at 0x7faa2a9079d0>"
      ]
     },
     "execution_count": 3,
     "metadata": {},
     "output_type": "execute_result"
    },
    {
     "data": {
      "image/png": "[encoded data removed]",
      "text/plain": [
       "<Figure size 432x288 with 1 Axes>"
      ]
     },
     "metadata": {
      "needs_background": "light"
     },
     "output_type": "display_data"
    }
   ],
   "source": [
    "data = datasets.load_digits()\n",
    "plt.imshow(data.images[0], cmap=plt.cm.gray_r)"
   ]
  },
  {
   "cell_type": "code",
   "execution_count": 4,
   "id": "8cad3a53",
   "metadata": {},
   "outputs": [],
   "source": [
    "# تبدیل ماتریس به یک صفحه یا همون فلت کردن\n",
    "X = data.images.reshape((len(data.images), -1))"
   ]
  },
  {
   "cell_type": "code",
   "execution_count": 5,
   "id": "2384d3b5",
   "metadata": {},
   "outputs": [
    {
     "data": {
      "text/plain": [
       "array([[ 0.,  0.,  5., ...,  0.,  0.,  0.],\n",
       "       [ 0.,  0.,  0., ..., 10.,  0.,  0.],\n",
       "       [ 0.,  0.,  0., ..., 16.,  9.,  0.],\n",
       "       ...,\n",
       "       [ 0.,  0.,  1., ...,  6.,  0.,  0.],\n",
       "       [ 0.,  0.,  2., ..., 12.,  0.,  0.],\n",
       "       [ 0.,  0., 10., ..., 12.,  1.,  0.]])"
      ]
     },
     "execution_count": 5,
     "metadata": {},
     "output_type": "execute_result"
    }
   ],
   "source": [
    "X"
   ]
  },
  {
   "cell_type": "code",
   "execution_count": 6,
   "id": "f9a08f69",
   "metadata": {},
   "outputs": [],
   "source": [
    "y = data.target"
   ]
  },
  {
   "cell_type": "code",
   "execution_count": 7,
   "id": "4cafaacf",
   "metadata": {},
   "outputs": [],
   "source": [
    "# https://scikit-learn.org/stable/modules/generated/sklearn.ensemble.RandomForestClassifier.html\n",
    "from sklearn.ensemble import RandomForestClassifier"
   ]
  },
  {
   "cell_type": "code",
   "execution_count": 8,
   "id": "592a0977",
   "metadata": {},
   "outputs": [
    {
     "data": {
      "text/plain": [
       "RandomForestClassifier(n_estimators=1000)"
      ]
     },
     "execution_count": 8,
     "metadata": {},
     "output_type": "execute_result"
    }
   ],
   "source": [
    "# با استفاده از 1000 درخت بررسی میکنیم و به صورت دیفالت 100 تاست\n",
    "RfcClf = RandomForestClassifier(n_estimators=1000)\n",
    "# learning\n",
    "RfcClf.fit(X[:1000], y[:1000])"
   ]
  },
  {
   "cell_type": "code",
   "execution_count": 9,
   "id": "e46650f4",
   "metadata": {},
   "outputs": [
    {
     "name": "stdout",
     "output_type": "stream",
     "text": [
      "              precision    recall  f1-score   support\n",
      "\n",
      "           0       0.99      0.99      0.99        79\n",
      "           1       0.95      0.89      0.92        80\n",
      "           2       0.99      0.91      0.95        77\n",
      "           3       0.94      0.84      0.89        79\n",
      "           4       0.98      0.95      0.96        83\n",
      "           5       0.89      0.99      0.94        82\n",
      "           6       0.99      0.99      0.99        80\n",
      "           7       0.93      1.00      0.96        80\n",
      "           8       0.88      0.88      0.88        76\n",
      "           9       0.85      0.93      0.89        81\n",
      "\n",
      "    accuracy                           0.94       797\n",
      "   macro avg       0.94      0.94      0.94       797\n",
      "weighted avg       0.94      0.94      0.94       797\n",
      "\n"
     ]
    }
   ],
   "source": [
    "p = RfcClf.predict(X[1000:])\n",
    "e = y[1000:]\n",
    "print(metrics.classification_report(e, p))"
   ]
  },
  {
   "cell_type": "code",
   "execution_count": 10,
   "id": "2b17a864",
   "metadata": {},
   "outputs": [
    {
     "name": "stdout",
     "output_type": "stream",
     "text": [
      "[[78  0  0  0  1  0  0  0  0  0]\n",
      " [ 0 71  0  1  0  1  0  0  0  7]\n",
      " [ 1  1 70  2  0  0  0  0  0  3]\n",
      " [ 0  1  0 66  0  3  0  3  6  0]\n",
      " [ 0  0  0  0 79  0  0  2  0  2]\n",
      " [ 0  0  0  0  0 81  1  0  0  0]\n",
      " [ 0  0  0  0  0  0 79  0  1  0]\n",
      " [ 0  0  0  0  0  0  0 80  0  0]\n",
      " [ 0  2  1  0  1  3  0  1 67  1]\n",
      " [ 0  0  0  1  0  3  0  0  2 75]]\n"
     ]
    }
   ],
   "source": [
    "print(metrics.confusion_matrix(e, p))"
   ]
  },
  {
   "cell_type": "code",
   "execution_count": 11,
   "id": "f7e2773d",
   "metadata": {},
   "outputs": [],
   "source": [
    "from sklearn.ensemble import AdaBoostClassifier"
   ]
  },
  {
   "cell_type": "code",
   "execution_count": 12,
   "id": "19229a04",
   "metadata": {},
   "outputs": [
    {
     "data": {
      "text/plain": [
       "AdaBoostClassifier(n_estimators=1000)"
      ]
     },
     "execution_count": 12,
     "metadata": {},
     "output_type": "execute_result"
    }
   ],
   "source": [
    "# با استفاده از 1000 درخت بررسی میکنیم و به صورت دیفالت 100 تاست\n",
    "AdaClf = AdaBoostClassifier(n_estimators=1000)\n",
    "# learning\n",
    "AdaClf.fit(X[:1000], y[:1000])\n",
    "# این الگوریتم کمی کندتر هست چونکه نمیتواند به صورت موازی درخت بسازه و به این صورت هست که اول درخت اول ساخته میشود\n",
    "# بعد میره سراغ درخت بعدی و همینطور خودش رو بهبود میده تا به یک نتیجه ایده آل برسه"
   ]
  },
  {
   "cell_type": "code",
   "execution_count": 13,
   "id": "c5cfe033",
   "metadata": {},
   "outputs": [
    {
     "name": "stdout",
     "output_type": "stream",
     "text": [
      "              precision    recall  f1-score   support\n",
      "\n",
      "           0       0.89      0.96      0.93        79\n",
      "           1       0.00      0.00      0.00        80\n",
      "           2       0.00      0.00      0.00        77\n",
      "           3       0.13      0.97      0.22        79\n",
      "           4       0.00      0.00      0.00        83\n",
      "           5       0.00      0.00      0.00        82\n",
      "           6       0.47      0.34      0.39        80\n",
      "           7       0.00      0.00      0.00        80\n",
      "           8       0.00      0.00      0.00        76\n",
      "           9       0.76      0.38      0.51        81\n",
      "\n",
      "    accuracy                           0.26       797\n",
      "   macro avg       0.22      0.27      0.20       797\n",
      "weighted avg       0.22      0.26      0.20       797\n",
      "\n"
     ]
    },
    {
     "name": "stderr",
     "output_type": "stream",
     "text": [
      "/home/shahin/.local/lib/python3.8/site-packages/sklearn/metrics/_classification.py:1308: UndefinedMetricWarning: Precision and F-score are ill-defined and being set to 0.0 in labels with no predicted samples. Use `zero_division` parameter to control this behavior.\n",
      "  _warn_prf(average, modifier, msg_start, len(result))\n",
      "/home/shahin/.local/lib/python3.8/site-packages/sklearn/metrics/_classification.py:1308: UndefinedMetricWarning: Precision and F-score are ill-defined and being set to 0.0 in labels with no predicted samples. Use `zero_division` parameter to control this behavior.\n",
      "  _warn_prf(average, modifier, msg_start, len(result))\n",
      "/home/shahin/.local/lib/python3.8/site-packages/sklearn/metrics/_classification.py:1308: UndefinedMetricWarning: Precision and F-score are ill-defined and being set to 0.0 in labels with no predicted samples. Use `zero_division` parameter to control this behavior.\n",
      "  _warn_prf(average, modifier, msg_start, len(result))\n"
     ]
    }
   ],
   "source": [
    "p = AdaClf.predict(X[1000:])\n",
    "e = y[1000:]\n",
    "print(metrics.classification_report(e, p))\n",
    "# نتیجه ای که میبینیم بسیار ضعیف است و درصدی که به ما نشان میدهد 26 درصد هست\n",
    "# روی بعضی از دیتاها چنین جواب ضعیفی رو به ما نمایش میده"
   ]
  },
  {
   "cell_type": "code",
   "execution_count": 14,
   "id": "33252853",
   "metadata": {},
   "outputs": [],
   "source": [
    "from sklearn.svm import SVC"
   ]
  },
  {
   "cell_type": "code",
   "execution_count": 15,
   "id": "0302af77",
   "metadata": {},
   "outputs": [
    {
     "data": {
      "text/plain": [
       "AdaBoostClassifier(base_estimator=SVC(probability=True), n_estimators=100)"
      ]
     },
     "execution_count": 15,
     "metadata": {},
     "output_type": "execute_result"
    }
   ],
   "source": [
    "# با استفاده از 100 درخت بررسی میکنیم و به صورت دیفالت 100 تاست\n",
    "SvcAdaClf = AdaBoostClassifier(base_estimator=SVC(probability=True, kernel='rbf'), n_estimators=100)\n",
    "# learning\n",
    "SvcAdaClf.fit(X[:1000], y[:1000])\n",
    "# سرعت اس وی ام نسبت به بقیه درخت های تصمیم کمی کندتر است"
   ]
  },
  {
   "cell_type": "code",
   "execution_count": 16,
   "id": "f2c6af89",
   "metadata": {},
   "outputs": [
    {
     "name": "stdout",
     "output_type": "stream",
     "text": [
      "              precision    recall  f1-score   support\n",
      "\n",
      "           0       1.00      0.95      0.97        79\n",
      "           1       0.94      0.99      0.96        80\n",
      "           2       1.00      0.88      0.94        77\n",
      "           3       0.79      0.82      0.81        79\n",
      "           4       0.96      0.95      0.96        83\n",
      "           5       0.87      0.99      0.93        82\n",
      "           6       0.96      0.97      0.97        80\n",
      "           7       0.87      0.96      0.91        80\n",
      "           8       0.86      0.88      0.87        76\n",
      "           9       0.98      0.79      0.88        81\n",
      "\n",
      "    accuracy                           0.92       797\n",
      "   macro avg       0.92      0.92      0.92       797\n",
      "weighted avg       0.92      0.92      0.92       797\n",
      "\n"
     ]
    }
   ],
   "source": [
    "p = SvcAdaClf.predict(X[1000:])\n",
    "e = y[1000:]\n",
    "print(metrics.classification_report(e, p))\n",
    "# همونطور که مشاهده میکنیم دقت رشد بسیار زیادی کرده نسبت به حالت ساده آدابوست"
   ]
  },
  {
   "cell_type": "code",
   "execution_count": null,
   "id": "2cd68aad",
   "metadata": {},
   "outputs": [],
   "source": []
  }
 ],
 "metadata": {
  "kernelspec": {
   "display_name": "Python 3 (ipykernel)",
   "language": "python",
   "name": "python3"
  },
  "language_info": {
   "codemirror_mode": {
    "name": "ipython",
    "version": 3
   },
   "file_extension": ".py",
   "mimetype": "text/x-python",
   "name": "python",
   "nbconvert_exporter": "python",
   "pygments_lexer": "ipython3",
   "version": "3.8.10"
  }
 },
 "nbformat": 4,
 "nbformat_minor": 5
}
